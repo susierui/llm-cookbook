{
 "cells": [
  {
   "cell_type": "code",
   "execution_count": 19,
   "metadata": {},
   "outputs": [],
   "source": [
    "from openai import OpenAI"
   ]
  },
  {
   "cell_type": "code",
   "execution_count": 20,
   "metadata": {},
   "outputs": [
    {
     "name": "stdout",
     "output_type": "stream",
     "text": [
      "sk\n"
     ]
    }
   ],
   "source": [
    "client = OpenAI(\n",
    "  api_key='',\n",
    "  base_url=''\n",
    ")\n",
    "deployment = \"gpt-3.5-turbo\"\n",
    "print(client.api_key[:2])"
   ]
  },
  {
   "cell_type": "code",
   "execution_count": 21,
   "metadata": {},
   "outputs": [],
   "source": [
    "def get_completion(prompt, max_tokens=250, temperature=0.5):\n",
    "    response = client.chat.completions.create(\n",
    "        model=deployment,\n",
    "        messages=[{\"role\": \"user\", \"content\": prompt}],\n",
    "        temperature=temperature,\n",
    "        max_tokens=max_tokens\n",
    "    )\n",
    "    content = response.choices[0].message.content.strip()\n",
    "    token_usage = response.usage.total_tokens\n",
    "    return content, token_usage"
   ]
  },
  {
   "cell_type": "code",
   "execution_count": 22,
   "metadata": {},
   "outputs": [],
   "source": [
    "def summarize_text(text, summary_length=100, temperature=0.5):\n",
    "    prompt = f\"in conclusion {summary_length}  {text}\"\n",
    "    summary, token_count = get_completion(prompt, max_tokens=summary_length, temperature=temperature)\n",
    "    return summary, token_count"
   ]
  },
  {
   "cell_type": "code",
   "execution_count": 23,
   "metadata": {},
   "outputs": [],
   "source": [
    "long_text = \"\"\"\n",
    "周深， 内地男歌手。1992年9月29日生，贵州贵阳人。2016年6月毕业于乌克兰利沃夫国立音乐学院，美声专业。 2014年参加浙江卫视《中国好声音》第三季 。2015年8月发行个人全新单曲《玫瑰与小鹿》并获得2016年东方风云榜最佳新人。2016献唱动画电影《大鱼海棠》印象曲《大鱼》；凭《玫瑰与小鹿》和《大鱼》双双获得亚洲新歌榜年度十大金曲；参加江苏卫视《蒙面唱将猜猜猜》，演唱《身骑白马》等；获《音乐先锋榜》2016年度网上最具人气先锋男歌手。 2017年11月发行个人首张专辑《深的深》；以作品《大鱼》获得第24届东方风云榜年度十大金曲和全民选择男歌手，并获第17届音乐风云榜年度最佳电影歌曲奖 ；献唱电影《绣春刀·修罗战场》宣传主题曲《浓情淡如你》和动画电影《大护法》概念曲《不说话》。 2018年获第25届东方风云榜年度飞跃歌手，并获全球华人歌曲排行榜2018年度最佳新人和年度金曲两个奖项；5月“深空间”2018个人巡回演唱会在上海开启；9月发行首支原创单曲《可它爱着这个世界》；献唱奥斯卡最佳影片《水形物语》同名推广曲及电视剧《如懿传》片尾曲《梅香如故》；参加江苏卫视《蒙面唱将猜猜猜第三季》演唱《雪落下的声音》等 ；参加《声入人心》演唱《Memory》等。 2019年连续获得第26届东方风云榜十大金曲奖和年度最具突破艺人奖 、第23届全球华语榜中榜内地地区“榜中榜最受欢迎男歌手”奖以及流行音乐全金榜“年度最佳舞台演绎”和“内地电台推崇歌手”奖。\n",
    "\"\"\""
   ]
  },
  {
   "cell_type": "code",
   "execution_count": 24,
   "metadata": {},
   "outputs": [
    {
     "name": "stdout",
     "output_type": "stream",
     "text": [
      "文本摘要: 总的来说，周深是一位才华横溢的内地男歌手，凭借着出色的歌艺和独特的声音，在音\n",
      "使用的 token 数量: 871\n"
     ]
    }
   ],
   "source": [
    "summary_length = 50\n",
    "temperature = 0.7\n",
    "\n",
    "summary, token_count = summarize_text(long_text, summary_length, temperature)\n",
    "print(f\"文本摘要: {summary}\")\n",
    "print(f\"使用的 token 数量: {token_count}\")"
   ]
  }
 ],
 "metadata": {
  "kernelspec": {
   "display_name": "Python 3",
   "language": "python",
   "name": "python3"
  },
  "language_info": {
   "codemirror_mode": {
    "name": "ipython",
    "version": 3
   },
   "file_extension": ".py",
   "mimetype": "text/x-python",
   "name": "python",
   "nbconvert_exporter": "python",
   "pygments_lexer": "ipython3",
   "version": "3.12.1"
  }
 },
 "nbformat": 4,
 "nbformat_minor": 2
}
