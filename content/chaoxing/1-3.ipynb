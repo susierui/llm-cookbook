{
 "cells": [
  {
   "cell_type": "code",
   "execution_count": 1,
   "metadata": {},
   "outputs": [],
   "source": [
    "from openai import OpenAI"
   ]
  },
  {
   "cell_type": "code",
   "execution_count": 2,
   "metadata": {},
   "outputs": [
    {
     "name": "stdout",
     "output_type": "stream",
     "text": [
      "sk\n"
     ]
    }
   ],
   "source": [
    "client = OpenAI(\n",
    "  api_key='',\n",
    "  base_url=''\n",
    ")\n",
    "deployment = \"gpt-3.5-turbo\"\n",
    "print(client.api_key[:2])"
   ]
  },
  {
   "cell_type": "code",
   "execution_count": null,
   "metadata": {},
   "outputs": [
    {
     "name": "stdout",
     "output_type": "stream",
     "text": [
      "你：\n",
      "机器人: Hello! How can I assist you today?\n",
      "你：上海到杭州距离\n",
      "机器人: 上海到杭州的距离大约是约200公里。您可以选择搭乘高铁、汽车或飞机前往。高铁是最快的交通方式，大约需要1-2小时到达，而汽车和飞机则需要更长的时间。希望这个信息对您有帮助。\n",
      "你：上海到温州距离\n",
      "机器人: 上海到温州的距离大约是约400公里。您可以选择搭乘高铁、汽车或飞机前往。高铁是最快的交通方式，大约需要3-4小时到达，而汽车和飞机则需要更长的时间。希望这个信息对您有帮助。\n",
      "你：上海去杭州距离比上海去温州距离少多少公里\n",
      "机器人: 上海到杭州的距离大约是200公里，而上海到温州的距离大约是400公里。因此，上海到杭州的距离比上海到温州的距离少200公里。希望这个信息对您有帮助。\n",
      "你：\n",
      "机器人: 请随时告诉我您有什么问题或需要帮助的地方，我会尽力回答和支持您。\n",
      "你：\n",
      "机器人: 如果您有任何其他问题或需要进一步的帮助，请随时告诉我。我随时待命，愿意为您提供支持和回答疑问。\n",
      "你：\n",
      "机器人: 感谢您和我交流。如果您有任何其他问题，请随时与我联系。祝您有美好的一天！再见！\n",
      "你：\n",
      "机器人: 再见！如果需要帮助，请随时和我联系。祝您一切顺利！有一个美好的一天！\n",
      "你：\n"
     ]
    }
   ],
   "source": [
    "class ChatBot:\n",
    "    def __init__(self, model=\"gpt-3.5-turbo\", max_tokens=1500, threshold=3000):\n",
    "        self.model = model\n",
    "        self.max_tokens = max_tokens\n",
    "        self.threshold = threshold\n",
    "        self.messages = []\n",
    "        self.total_tokens = 0\n",
    "\n",
    "    def update_messages(self, role, content):\n",
    "        self.messages.append({\"role\": role, \"content\": content})\n",
    "        self._trim_messages()\n",
    "\n",
    "    def _trim_messages(self):\n",
    "        self.total_tokens = sum(len(m['content'].split()) for m in self.messages)\n",
    "        # Remove oldest messages while the token limit is exceeded\n",
    "        while self.total_tokens > self.threshold:\n",
    "            self.messages.pop(0)\n",
    "            self.total_tokens = sum(len(m['content'].split()) for m in self.messages)\n",
    "\n",
    "    def get_response(self, prompt):\n",
    "        self.update_messages(\"user\", prompt)\n",
    "        response = client.chat.completions.create(\n",
    "            model=self.model,\n",
    "            messages=self.messages,\n",
    "            temperature=0.7,\n",
    "            max_tokens=self.max_tokens\n",
    "        )\n",
    "        content = response.choices[0].message.content\n",
    "        token_usage = response.usage.total_tokens\n",
    "        self.update_messages(\"assistant\", content)\n",
    "        return content, token_usage\n",
    "\n",
    "if __name__ == \"__main__\":\n",
    "    chatbot = ChatBot()\n",
    "\n",
    "    while True:\n",
    "        user_input = input(\"你: \")\n",
    "        print(\"你：\" + user_input)\n",
    "        if user_input.lower() == \"拜拜\":\n",
    "            print(\"机器人: 再见！\")\n",
    "            break\n",
    "        response, token_usage = chatbot.get_response(user_input)\n",
    "        print(\"机器人:\", response)\n"
   ]
  }
 ],
 "metadata": {
  "kernelspec": {
   "display_name": "Python 3",
   "language": "python",
   "name": "python3"
  },
  "language_info": {
   "codemirror_mode": {
    "name": "ipython",
    "version": 3
   },
   "file_extension": ".py",
   "mimetype": "text/x-python",
   "name": "python",
   "nbconvert_exporter": "python",
   "pygments_lexer": "ipython3",
   "version": "3.12.1"
  }
 },
 "nbformat": 4,
 "nbformat_minor": 2
}
