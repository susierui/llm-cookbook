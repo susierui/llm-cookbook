{
 "cells": [
  {
   "cell_type": "code",
   "execution_count": 13,
   "metadata": {},
   "outputs": [],
   "source": [
    "from openai import OpenAI"
   ]
  },
  {
   "cell_type": "code",
   "execution_count": 14,
   "metadata": {},
   "outputs": [
    {
     "name": "stdout",
     "output_type": "stream",
     "text": [
      "sk\n"
     ]
    }
   ],
   "source": [
    "client = OpenAI(\n",
    "  api_key='',\n",
    "  base_url=''\n",
    ")\n",
    "deployment = \"gpt-3.5-turbo\"\n",
    "print(client.api_key[:2])"
   ]
  },
  {
   "cell_type": "code",
   "execution_count": 15,
   "metadata": {},
   "outputs": [],
   "source": [
    "def get_completion(prompt, max_tokens=250, temperature=0.7, model=\"gpt-3.5-turbo\"):\n",
    "    messages = [{\"role\": \"user\", \"content\": prompt}]\n",
    "    response = client.chat.completions.create(\n",
    "        model=model,\n",
    "        messages=messages,\n",
    "        temperature=temperature,\n",
    "        max_tokens=max_tokens\n",
    "    )\n",
    "    content = response.choices[0].message.content\n",
    "    token_usage = response.usage.total_tokens\n",
    "    return content, token_usage\n",
    "\n",
    "def detect_language(text, max_tokens=10):\n",
    "    prompt = f\"请告诉我这段文本是什么语言: {text}\"\n",
    "    detected_language, _ = get_completion(prompt, max_tokens=max_tokens)\n",
    "    return detected_language.strip()\n",
    "\n",
    "def translate_text(text, target_language=\"中文\", max_tokens=100):\n",
    "    prompt = f\"请将这段文本翻译为{target_language}: {text}\"\n",
    "    translation, token_count = get_completion(prompt, max_tokens=max_tokens)\n",
    "    return translation.strip(), token_count\n"
   ]
  },
  {
   "cell_type": "code",
   "execution_count": 16,
   "metadata": {},
   "outputs": [
    {
     "name": "stdout",
     "output_type": "stream",
     "text": [
      "检测到的语言: 这段文本是法语。\n",
      "翻译结果: 是的，她是韩国人。\n",
      "使用的 token 数量: 40\n"
     ]
    }
   ],
   "source": [
    "text = \"oui,elle est coreen\"\n",
    "\n",
    "detected_language = detect_language(text)\n",
    "print(f\"检测到的语言: {detected_language}\")\n",
    "\n",
    "translation, token_count = translate_text(text)\n",
    "print(f\"翻译结果: {translation}\")\n",
    "print(f\"使用的 token 数量: {token_count}\")"
   ]
  }
 ],
 "metadata": {
  "kernelspec": {
   "display_name": "Python 3",
   "language": "python",
   "name": "python3"
  },
  "language_info": {
   "codemirror_mode": {
    "name": "ipython",
    "version": 3
   },
   "file_extension": ".py",
   "mimetype": "text/x-python",
   "name": "python",
   "nbconvert_exporter": "python",
   "pygments_lexer": "ipython3",
   "version": "3.12.1"
  }
 },
 "nbformat": 4,
 "nbformat_minor": 2
}
