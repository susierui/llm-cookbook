{
 "cells": [
  {
   "cell_type": "code",
   "execution_count": 38,
   "metadata": {},
   "outputs": [],
   "source": [
    "from openai import OpenAI"
   ]
  },
  {
   "cell_type": "code",
   "execution_count": 39,
   "metadata": {},
   "outputs": [
    {
     "name": "stdout",
     "output_type": "stream",
     "text": [
      "sk\n"
     ]
    }
   ],
   "source": [
    "client = OpenAI(\n",
    "  api_key='',\n",
    "  base_url=''\n",
    ")\n",
    "deployment = \"gpt-3.5-turbo\"\n",
    "print(client.api_key[:2])"
   ]
  },
  {
   "cell_type": "code",
   "execution_count": 40,
   "metadata": {},
   "outputs": [],
   "source": [
    "def get_completion(prompt, max_tokens=250):\n",
    "    messages = [{\"role\": \"user\", \"content\": prompt}]\n",
    "    response = client.chat.completions.create(\n",
    "        model=deployment,\n",
    "        messages=messages,\n",
    "        temperature=0.7,\n",
    "        max_tokens=max_tokens\n",
    "    )\n",
    "    content = response.choices[0].message.content\n",
    "    token_usage = response.usage.total_tokens\n",
    "    return content, token_usage"
   ]
  },
  {
   "cell_type": "code",
   "execution_count": 41,
   "metadata": {},
   "outputs": [
    {
     "name": "stdout",
     "output_type": "stream",
     "text": [
      "生成的短文:\n",
      "西湖，位于中国浙江省杭州市，是中国著名的风景名胜区之一。它被誉为“天下第一湖”，有着悠久的历史和令人陶醉的自然风光。\n",
      "\n",
      "西湖水域宽广，湖水清澈见底，四周被翠绿的山峰环绕。湖中有几座美丽的小岛，其中最著名的是三潭印月、苏堤、白堤等。每到春秋季节，湖水泛起微波，荷花盛开，游船在湖上荡漾，景色宛如仙境。\n",
      "\n",
      "除了湖水和山峰，西湖周围还有许多古迹和名胜。雷峰塔、岳\n",
      "\n",
      "使用的Token数量: 275\n"
     ]
    }
   ],
   "source": [
    "prompt = \"写一篇短文，主题是介绍西湖。\"\n",
    "\n",
    "# 调用函数生成短文\n",
    "story, token_usage = get_completion(prompt, max_tokens=250)\n",
    "\n",
    "# 输出生成的短文和使用的 Token 数量\n",
    "print(\"生成的短文:\")\n",
    "print(story)\n",
    "print(\"\\n使用的Token数量:\", token_usage)"
   ]
  }
 ],
 "metadata": {
  "kernelspec": {
   "display_name": "Python 3",
   "language": "python",
   "name": "python3"
  },
  "language_info": {
   "codemirror_mode": {
    "name": "ipython",
    "version": 3
   },
   "file_extension": ".py",
   "mimetype": "text/x-python",
   "name": "python",
   "nbconvert_exporter": "python",
   "pygments_lexer": "ipython3",
   "version": "3.12.1"
  }
 },
 "nbformat": 4,
 "nbformat_minor": 2
}
