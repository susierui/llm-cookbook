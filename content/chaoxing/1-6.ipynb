{
 "cells": [
  {
   "cell_type": "code",
   "execution_count": 11,
   "metadata": {},
   "outputs": [],
   "source": [
    "from openai import OpenAI"
   ]
  },
  {
   "cell_type": "code",
   "execution_count": 12,
   "metadata": {},
   "outputs": [
    {
     "name": "stdout",
     "output_type": "stream",
     "text": [
      "sk\n"
     ]
    }
   ],
   "source": [
    "client = OpenAI(\n",
    "  api_key='',\n",
    "  base_url=''\n",
    ")\n",
    "deployment = \"gpt-3.5-turbo\"\n",
    "print(client.api_key[:2])"
   ]
  },
  {
   "cell_type": "code",
   "execution_count": 13,
   "metadata": {},
   "outputs": [],
   "source": [
    "def get_completion(prompt, max_tokens=250, temperature=0.5):\n",
    "    # 创建一个消息列表，传递给模型进行推理\n",
    "    response = client.chat.completions.create(\n",
    "        model=deployment,\n",
    "        messages=[{\"role\": \"user\", \"content\": prompt}],\n",
    "        temperature=temperature,\n",
    "        max_tokens=max_tokens\n",
    "    )\n",
    "    # 返回生成的文本和使用的token数\n",
    "    return response.choices[0].message.content, response.usage.total_tokens\n",
    "\n"
   ]
  },
  {
   "cell_type": "code",
   "execution_count": 14,
   "metadata": {},
   "outputs": [],
   "source": [
    "def explain_code(code_snippet, max_tokens=150):\n",
    "    # 使用get_completion函数生成对代码的解释\n",
    "    prompt = f\"请解释以下Python代码:\\n\\n{code_snippet}\"\n",
    "    explanation, token_usage = get_completion(prompt, max_tokens=max_tokens, temperature=0.3)\n",
    "    return explanation.strip(), token_usage"
   ]
  },
  {
   "cell_type": "code",
   "execution_count": 15,
   "metadata": {},
   "outputs": [
    {
     "name": "stdout",
     "output_type": "stream",
     "text": [
      "代码详细解释: 这段代码定义了一个名为func1_iterative的函数，该函数接受一个参数n，并使用迭代的方式计算n的阶乘。在函数内部，首先初始化一个变量result为1，然后使用for循环遍历从1到n的所有整数，并将每个整数与result相乘，最终返回结果result，即n的阶乘。\n",
      "使用的 token 数量: 148\n"
     ]
    }
   ],
   "source": [
    "code = \"\"\"\n",
    "def func1_iterative(n):\n",
    "    result = 1\n",
    "    for i in range(1, n + 1):\n",
    "        result *= i\n",
    "    return result\n",
    "\"\"\"\n",
    "max_tokens = 100\n",
    "\n",
    "explanation, token_count = explain_code(code, max_tokens)\n",
    "print(f\"代码详细解释: {explanation}\")\n",
    "print(f\"使用的 token 数量: {token_count}\")"
   ]
  }
 ],
 "metadata": {
  "kernelspec": {
   "display_name": "Python 3",
   "language": "python",
   "name": "python3"
  },
  "language_info": {
   "codemirror_mode": {
    "name": "ipython",
    "version": 3
   },
   "file_extension": ".py",
   "mimetype": "text/x-python",
   "name": "python",
   "nbconvert_exporter": "python",
   "pygments_lexer": "ipython3",
   "version": "3.12.1"
  }
 },
 "nbformat": 4,
 "nbformat_minor": 2
}
